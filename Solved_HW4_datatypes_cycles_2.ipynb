{
 "cells": [
  {
   "cell_type": "markdown",
   "metadata": {},
   "source": [
    "**Задание 1**. Дан список с визитами по городам и странам. \n",
    "Напишите код, который возвращает отфильтрованный список geo_logs, содержащий только визиты из России."
   ]
  },
  {
   "cell_type": "code",
   "execution_count": 1,
   "metadata": {},
   "outputs": [],
   "source": [
    "geo_logs = [\n",
    "    {'visit1': ['Москва', 'Россия']},\n",
    "    {'visit2': ['Дели', 'Индия']},\n",
    "    {'visit3': ['Владимир', 'Россия']},\n",
    "    {'visit4': ['Лиссабон', 'Португалия']},\n",
    "    {'visit5': ['Париж', 'Франция']},\n",
    "    {'visit6': ['Лиссабон', 'Португалия']},\n",
    "    {'visit7': ['Тула', 'Россия']},\n",
    "    {'visit8': ['Тула', 'Россия']},\n",
    "    {'visit9': ['Курск', 'Россия']},\n",
    "    {'visit10': ['Архангельск', 'Россия']}\n",
    "]"
   ]
  },
  {
   "cell_type": "code",
   "execution_count": 2,
   "metadata": {},
   "outputs": [
    {
     "data": {
      "text/plain": [
       "[{'visit1': ['Москва', 'Россия']},\n",
       " {'visit3': ['Владимир', 'Россия']},\n",
       " {'visit7': ['Тула', 'Россия']},\n",
       " {'visit8': ['Тула', 'Россия']},\n",
       " {'visit9': ['Курск', 'Россия']},\n",
       " {'visit10': ['Архангельск', 'Россия']}]"
      ]
     },
     "execution_count": 2,
     "metadata": {},
     "output_type": "execute_result"
    }
   ],
   "source": [
    "russia = []\n",
    "for value in geo_logs:\n",
    "    #print(value)\n",
    "    for el in value.values():\n",
    "        if el[1] == 'Россия':\n",
    "            russia.append(value)\n",
    "russia"
   ]
  },
  {
   "cell_type": "markdown",
   "metadata": {},
   "source": [
    "**Задание 2**. Выведите на экран все уникальные гео-ID из значений словаря ids. Т. е. список вида [213, 15, 54, 119, 98, 35]"
   ]
  },
  {
   "cell_type": "code",
   "execution_count": 3,
   "metadata": {},
   "outputs": [],
   "source": [
    "ids = {'user1': [213, 213, 213, 15, 213], \n",
    "       'user2': [54, 54, 119, 119, 119], \n",
    "       'user3': [213, 98, 98, 35]}"
   ]
  },
  {
   "cell_type": "code",
   "execution_count": 4,
   "metadata": {},
   "outputs": [
    {
     "name": "stdout",
     "output_type": "stream",
     "text": [
      "[98, 35, 15, 213, 54, 119]\n"
     ]
    }
   ],
   "source": [
    "# с нарушением последовательности элементов\n",
    "values = []\n",
    "for value in ids.values():\n",
    "    values += value\n",
    "#    print(value)\n",
    "#print(values)\n",
    "print(list(set(values)))"
   ]
  },
  {
   "cell_type": "code",
   "execution_count": 5,
   "metadata": {},
   "outputs": [
    {
     "name": "stdout",
     "output_type": "stream",
     "text": [
      "[213, 15, 54, 119, 98, 35]\n"
     ]
    }
   ],
   "source": [
    "# с сохранением последовательности элементов\n",
    "unic_values = []\n",
    "\n",
    "for value in ids.values():\n",
    "    values += value\n",
    "#print(values) для проверки список со всеми значениями\n",
    "for el in values:\n",
    "    if el not in unic_values:\n",
    "        unic_values.append(el)\n",
    "print(unic_values)"
   ]
  },
  {
   "cell_type": "markdown",
   "metadata": {},
   "source": [
    "**Задание 3**. Дан список поисковых запросов. Получить распределение количества слов в них. \n",
    "Т. е. поисковых запросов из одного - слова 5%, из двух - 7%, из трех - 3% и т.д."
   ]
  },
  {
   "cell_type": "code",
   "execution_count": 6,
   "metadata": {},
   "outputs": [],
   "source": [
    "queries = [\n",
    "    'смотреть сериалы онлайн',\n",
    "    'новости спорта',\n",
    "    'афиша кино',\n",
    "    'курс доллара',\n",
    "    'сериалы этим летом',\n",
    "    'курс по питону',\n",
    "    'сериалы про спорт',\n",
    "]"
   ]
  },
  {
   "cell_type": "code",
   "execution_count": 7,
   "metadata": {},
   "outputs": [
    {
     "name": "stdout",
     "output_type": "stream",
     "text": [
      "Запросов с количеством слов 3 - 57.14%\n",
      "Запросов с количеством слов 2 - 42.86%\n"
     ]
    }
   ],
   "source": [
    "all_count_search = len(queries)\n",
    "lens_search_list = []\n",
    "un_lens_search_list = []\n",
    "un_count_list = []\n",
    "\n",
    "# определеие списка с длинами запросов\n",
    "for search in queries:\n",
    "    search_list = search.split(' ')            # печать сторк в список\n",
    "    len_search_list = len(search_list)         # print(len_search_list)  # длина каждого списка\n",
    "    lens_search_list.append(len_search_list)\n",
    "\n",
    "# опредленение уникальных длин запросов\n",
    "    if len_search_list not in un_lens_search_list:\n",
    "        un_lens_search_list.append(len_search_list)\n",
    "#print(lens_search_list)\n",
    "#print(un_lens_search_list)\n",
    "\n",
    "# опредленение повторов для уникальных длин запросов\n",
    "for unic_count in lens_search_list:\n",
    "    count_list = lens_search_list.count(unic_count)\n",
    "    if count_list not in un_count_list:\n",
    "        un_count_list.append(count_list)\n",
    "#print(un_count_list)\n",
    "\n",
    "couple_el = list(zip(un_lens_search_list,un_count_list))\n",
    "for couple in couple_el:\n",
    "    print(f'Запросов с количеством слов {couple[0]} - {couple[1] / all_count_search * 100:.2f}%')"
   ]
  },
  {
   "cell_type": "code",
   "execution_count": 8,
   "metadata": {},
   "outputs": [
    {
     "name": "stdout",
     "output_type": "stream",
     "text": [
      "{2, 3}\n",
      "[3, 4]\n",
      "[(2, 3), (3, 4)]\n"
     ]
    }
   ],
   "source": [
    "# код Sergei Kundryukov\n",
    "len_list = []\n",
    "\n",
    "for phrase in queries:\n",
    "    splitted_phrase = phrase.split(' ')\n",
    "    len_list.append(len(splitted_phrase))\n",
    "\n",
    "uniq_len = set(len_list)\n",
    "print(uniq_len) # проверка\n",
    "len_count = []\n",
    "\n",
    "for phrase_len in uniq_len:\n",
    "    len_count.append(len_list.count(phrase_len))\n",
    "print(len_count) # проверка\n",
    "\n",
    "print(list(zip(uniq_len, len_count)))"
   ]
  },
  {
   "cell_type": "markdown",
   "metadata": {},
   "source": [
    "**Задание 4**. Дана статистика рекламных каналов по объемам продаж. Напишите скрипт, который возвращает название канала с максимальным объемом.\n",
    "Т. е. в данном примере скрипт должен возвращать 'yandex'."
   ]
  },
  {
   "cell_type": "code",
   "execution_count": 9,
   "metadata": {},
   "outputs": [],
   "source": [
    "stats = {'facebook': 55, 'yandex': 120, 'vk': 115, 'google': 99, 'email': 42, 'ok': 98}"
   ]
  },
  {
   "cell_type": "code",
   "execution_count": 10,
   "metadata": {},
   "outputs": [
    {
     "name": "stdout",
     "output_type": "stream",
     "text": [
      "yandex\n"
     ]
    }
   ],
   "source": [
    "key_list = list(stats.keys())\n",
    "val_list = list(stats.values())\n",
    "max_el = max(list(stats.values()))\n",
    "print(key_list[val_list.index(max_el)])"
   ]
  },
  {
   "cell_type": "markdown",
   "metadata": {},
   "source": [
    "**Задание 5**. Напишите код для преобразования произвольного списка вида ['2018-01-01', 'yandex', 'cpc', 100] (он может быть любой длины) в словарь {'2018-01-01': {'yandex': {'cpc': 100}}}"
   ]
  },
  {
   "cell_type": "code",
   "execution_count": 11,
   "metadata": {},
   "outputs": [
    {
     "name": "stdout",
     "output_type": "stream",
     "text": [
      "{'2018-01-01': {'yandex': {'cpc': 100}}}\n"
     ]
    }
   ],
   "source": [
    "input = ['2018-01-01', 'yandex', 'cpc', 100]\n",
    "\n",
    "i = len(input) - 3\n",
    "#print(i)\n",
    "\n",
    "dic = dict([input[-2:]])\n",
    "#print(dic)\n",
    "\n",
    "for el in input:\n",
    "    if i >= 0:\n",
    "        new_input = input[i], dic\n",
    "        dic = dict([new_input])\n",
    "        i -= 1\n",
    "print(dic)\n"
   ]
  }
 ],
 "metadata": {
  "kernelspec": {
   "display_name": "Python 3",
   "language": "python",
   "name": "python3"
  },
  "language_info": {
   "codemirror_mode": {
    "name": "ipython",
    "version": 3
   },
   "file_extension": ".py",
   "mimetype": "text/x-python",
   "name": "python",
   "nbconvert_exporter": "python",
   "pygments_lexer": "ipython3",
   "version": "3.7.6"
  }
 },
 "nbformat": 4,
 "nbformat_minor": 2
}
